{
  "cells": [
    {
      "cell_type": "code",
      "execution_count": null,
      "id": "8feccb9e-7b05-4a2d-be57-946b03a3bae1",
      "metadata": {
        "id": "8feccb9e-7b05-4a2d-be57-946b03a3bae1"
      },
      "outputs": [],
      "source": [
        "import pandas as pd"
      ]
    },
    {
      "cell_type": "code",
      "execution_count": null,
      "id": "29fe1618-0ec6-4cba-bd17-eea087ecdfff",
      "metadata": {
        "id": "29fe1618-0ec6-4cba-bd17-eea087ecdfff",
        "outputId": "4666f28a-1b72-4023-cf41-656d9dbd8c5a"
      },
      "outputs": [
        {
          "name": "stdout",
          "output_type": "stream",
          "text": [
            "hello world\n"
          ]
        }
      ],
      "source": [
        "print('hello world')"
      ]
    },
    {
      "cell_type": "code",
      "execution_count": null,
      "id": "71d2f1ff-7daa-4455-8ae4-6bcc556ac010",
      "metadata": {
        "id": "71d2f1ff-7daa-4455-8ae4-6bcc556ac010",
        "outputId": "03b64b58-aa99-4ad6-f2af-f9a788ca3507"
      },
      "outputs": [
        {
          "name": "stdout",
          "output_type": "stream",
          "text": [
            "step 1\n"
          ]
        }
      ],
      "source": [
        "print('step 1')"
      ]
    },
    {
      "cell_type": "code",
      "execution_count": 1,
      "id": "7b05edb4-b36a-4f61-8f2e-c4536c5a246b",
      "metadata": {
        "id": "7b05edb4-b36a-4f61-8f2e-c4536c5a246b",
        "outputId": "e09da7d6-1b21-4d3d-962e-11df49b5edc6",
        "colab": {
          "base_uri": "https://localhost:8080/"
        }
      },
      "outputs": [
        {
          "output_type": "stream",
          "name": "stdout",
          "text": [
            "contributing something as a student\n"
          ]
        }
      ],
      "source": [
        "print('contributing something as a student')"
      ]
    },
    {
      "cell_type": "code",
      "source": [],
      "metadata": {
        "id": "Hcq--tpptB5F"
      },
      "id": "Hcq--tpptB5F",
      "execution_count": null,
      "outputs": []
    }
  ],
  "metadata": {
    "kernelspec": {
      "display_name": "Python 3 (ipykernel)",
      "language": "python",
      "name": "python3"
    },
    "language_info": {
      "codemirror_mode": {
        "name": "ipython",
        "version": 3
      },
      "file_extension": ".py",
      "mimetype": "text/x-python",
      "name": "python",
      "nbconvert_exporter": "python",
      "pygments_lexer": "ipython3",
      "version": "3.10.12"
    },
    "colab": {
      "provenance": []
    }
  },
  "nbformat": 4,
  "nbformat_minor": 5
}