{
  "cells": [
    {
      "cell_type": "markdown",
      "id": "b856a3f5-e373-427e-b769-adb58e02052c",
      "metadata": {
        "id": "b856a3f5-e373-427e-b769-adb58e02052c"
      },
      "source": [
        "# Exercise 1"
      ]
    },
    {
      "cell_type": "code",
      "execution_count": null,
      "id": "ca762d99-15bd-431e-ac76-b37c4e2fc359",
      "metadata": {
        "id": "ca762d99-15bd-431e-ac76-b37c4e2fc359",
        "outputId": "3e9f8f6f-2cd2-41e7-b6ea-02e8659f9d8c"
      },
      "outputs": [
        {
          "name": "stdout",
          "output_type": "stream",
          "text": [
            "hello world\n"
          ]
        }
      ],
      "source": [
        "print('hello world')"
      ]
    },
    {
      "cell_type": "code",
      "execution_count": null,
      "id": "b54ceeae-2e9f-4691-8023-4c2b1d6e5e52",
      "metadata": {
        "id": "b54ceeae-2e9f-4691-8023-4c2b1d6e5e52"
      },
      "outputs": [],
      "source": []
    }
  ],
  "metadata": {
    "kernelspec": {
      "display_name": "Python 3 (ipykernel)",
      "language": "python",
      "name": "python3"
    },
    "language_info": {
      "codemirror_mode": {
        "name": "ipython",
        "version": 3
      },
      "file_extension": ".py",
      "mimetype": "text/x-python",
      "name": "python",
      "nbconvert_exporter": "python",
      "pygments_lexer": "ipython3",
      "version": "3.10.12"
    },
    "colab": {
      "provenance": []
    }
  },
  "nbformat": 4,
  "nbformat_minor": 5
}